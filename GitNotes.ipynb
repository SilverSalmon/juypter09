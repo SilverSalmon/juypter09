{
 "cells": [
  {
   "cell_type": "code",
   "execution_count": 1,
   "metadata": {},
   "outputs": [
    {
     "name": "stdout",
     "output_type": "stream",
     "text": [
      "Git Notes\n"
     ]
    }
   ],
   "source": [
    "print(\"Git Notes\")"
   ]
  },
  {
   "cell_type": "code",
   "execution_count": null,
   "metadata": {},
   "outputs": [],
   "source": [
    "# Git init creates the memory card for saving crap.\n",
    "# Git add .  adds all the files to the memory card.\n",
    "# Git commit -m \"message\" saves the files to the memory card.\n",
    "# Git push uploads the files to the cloud. ( Push UP)\n",
    "# Git pull downloads the files from the cloud.\n",
    "# Git clone downloads the files from the cloud and creates a new folder.\n",
    "# Git status shows the status of the files.\n",
    "# Git log shows the history of the files.\n",
    "# Git diff shows the differences between the files.\n",
    "# Git branch shows the branches.\n",
    "# Git checkout -b branchname creates a new branch.\n",
    "# Git checkout branchname switches to the branch.\n",
    "# Git merge branchname merges the branch to the master.\n",
    "# Git branch -d branchname deletes the branch.\n",
    "# Git remote -v shows the remote.\n"
   ]
  }
 ],
 "metadata": {
  "kernelspec": {
   "display_name": ".venv",
   "language": "python",
   "name": "python3"
  },
  "language_info": {
   "codemirror_mode": {
    "name": "ipython",
    "version": 3
   },
   "file_extension": ".py",
   "mimetype": "text/x-python",
   "name": "python",
   "nbconvert_exporter": "python",
   "pygments_lexer": "ipython3",
   "version": "3.10.6"
  }
 },
 "nbformat": 4,
 "nbformat_minor": 2
}
