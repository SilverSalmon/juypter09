{
 "cells": [
  {
   "cell_type": "markdown",
   "metadata": {},
   "source": [
    "## Widget Viewer"
   ]
  },
  {
   "cell_type": "code",
   "execution_count": 8,
   "metadata": {},
   "outputs": [
    {
     "data": {
      "application/vnd.jupyter.widget-view+json": {
       "model_id": "b352eaa08e33452f83c10341c5837ecb",
       "version_major": 2,
       "version_minor": 0
      },
      "text/plain": [
       "Dropdown(description='Select an image:', options=('00000-188533898.png', '00001-16909160.png', '00002-28546887…"
      ]
     },
     "metadata": {},
     "output_type": "display_data"
    },
    {
     "data": {
      "application/vnd.jupyter.widget-view+json": {
       "model_id": "2c8116e9588c413faec6545fdc9910cb",
       "version_major": 2,
       "version_minor": 0
      },
      "text/plain": [
       "Output()"
      ]
     },
     "metadata": {},
     "output_type": "display_data"
    }
   ],
   "source": [
    "import os\n",
    "import ipywidgets as widgets\n",
    "from IPython.display import display\n",
    "\n",
    "# Specify the directory containing your images\n",
    "image_directory = 'C:\\\\pydev\\\\webui_forge_cu121_torch21\\\\webui\\\\output\\\\txt2img-images\\\\2024-08-23'  # Replace with your actual directory\n",
    "\n",
    "# Get a list of image files in the directory\n",
    "image_files = [f for f in os.listdir(image_directory) if f.endswith(('.jpg', '.jpeg', '.png', '.gif'))]\n",
    "\n",
    "# Create a dropdown widget to select an image file\n",
    "image_dropdown = widgets.Dropdown(\n",
    "    options=image_files,\n",
    "    description='Select an image:',\n",
    "    disabled=False,\n",
    ")\n",
    "\n",
    "# Create an output widget to display the selected image\n",
    "image_output = widgets.Output()\n",
    "\n",
    "# Function to display the selected image\n",
    "def on_image_change(change):\n",
    "    with image_output:\n",
    "        image_output.clear_output()\n",
    "        if change['new']:\n",
    "            selected_image_path = os.path.join(image_directory, change['new'])\n",
    "            display(widgets.Image(value=open(selected_image_path, 'rb').read()))\n",
    "\n",
    "# Observe changes in the dropdown and update the image display\n",
    "image_dropdown.observe(on_image_change, names='value')\n",
    "\n",
    "# Display the widgets\n",
    "display(image_dropdown, image_output)"
   ]
  },
  {
   "cell_type": "code",
   "execution_count": 11,
   "metadata": {},
   "outputs": [
    {
     "data": {
      "application/vnd.jupyter.widget-view+json": {
       "model_id": "b352eaa08e33452f83c10341c5837ecb",
       "version_major": 2,
       "version_minor": 0
      },
      "text/plain": [
       "Dropdown(description='Select an image:', options=('00002-2854688742.png', '00003-1419460624.png', '00004-26869…"
      ]
     },
     "metadata": {},
     "output_type": "display_data"
    },
    {
     "data": {
      "application/vnd.jupyter.widget-view+json": {
       "model_id": "2c8116e9588c413faec6545fdc9910cb",
       "version_major": 2,
       "version_minor": 0
      },
      "text/plain": [
       "Output()"
      ]
     },
     "metadata": {},
     "output_type": "display_data"
    },
    {
     "data": {
      "application/vnd.jupyter.widget-view+json": {
       "model_id": "3d3aaa719a614c76a7b9e8bda94a055d",
       "version_major": 2,
       "version_minor": 0
      },
      "text/plain": [
       "Button(description='Move to Checked', style=ButtonStyle())"
      ]
     },
     "metadata": {},
     "output_type": "display_data"
    },
    {
     "data": {
      "application/vnd.jupyter.widget-view+json": {
       "model_id": "9909f8af038e42a09555f7a737c671e5",
       "version_major": 2,
       "version_minor": 0
      },
      "text/plain": [
       "Button(description='Move to Deleted', style=ButtonStyle())"
      ]
     },
     "metadata": {},
     "output_type": "display_data"
    }
   ],
   "source": [
    "import os\n",
    "import shutil  # For moving files\n",
    "import ipywidgets as widgets\n",
    "from IPython.display import display\n",
    "\n",
    "# Specify the directories\n",
    "image_directory = 'C:\\\\pydev\\\\webui_forge_cu121_torch21\\\\webui\\\\output\\\\txt2img-images\\\\2024-08-23'  # Replace with your actual directory\n",
    "\n",
    "checked_directory = 'checked'\n",
    "delete_directory = 'deleted'\n",
    "\n",
    "# Create directories if they don't exist, within image_directory\n",
    "for directory in [checked_directory, delete_directory]:\n",
    "    directory_path = os.path.join(image_directory, directory)  # Construct the full path\n",
    "    if not os.path.exists(directory_path):\n",
    "        os.makedirs(directory_path)\n",
    "\n",
    "# Function to update the image dropdown options\n",
    "def update_dropdown():\n",
    "    image_files = [f for f in os.listdir(image_directory) if f.endswith(('.jpg', '.jpeg', '.png', '.gif'))]\n",
    "    image_dropdown.options = image_files\n",
    "\n",
    "# Create buttons\n",
    "check_button = widgets.Button(description='Move to Checked')\n",
    "delete_button = widgets.Button(description='Move to Deleted')\n",
    "\n",
    "# Function to handle button clicks\n",
    "def on_button_click(button):\n",
    "    with image_output:\n",
    "        if image_dropdown.value:\n",
    "            selected_image_path = os.path.join(image_directory, image_dropdown.value)\n",
    "            if button == check_button:\n",
    "                destination_path = os.path.join(image_directory, checked_directory) \n",
    "                shutil.move(selected_image_path, destination_path)\n",
    "            elif button == delete_button:\n",
    "                destination_path = os.path.join(image_directory, delete_directory)\n",
    "                shutil.move(selected_image_path, destination_path)\n",
    "            update_dropdown()  # Update the dropdown after moving the file\n",
    "            image_output.clear_output()\n",
    "\n",
    "\n",
    "\n",
    "\n",
    "# Attach click handlers to buttons\n",
    "check_button.on_click(on_button_click)\n",
    "delete_button.on_click(on_button_click)\n",
    "\n",
    "# ... (rest of the code from the previous response remains the same)\n",
    "\n",
    "# Display the widgets along with the buttons\n",
    "display(image_dropdown, image_output, check_button, delete_button)"
   ]
  },
  {
   "cell_type": "code",
   "execution_count": null,
   "metadata": {},
   "outputs": [],
   "source": []
  }
 ],
 "metadata": {
  "kernelspec": {
   "display_name": ".venv",
   "language": "python",
   "name": "python3"
  },
  "language_info": {
   "codemirror_mode": {
    "name": "ipython",
    "version": 3
   },
   "file_extension": ".py",
   "mimetype": "text/x-python",
   "name": "python",
   "nbconvert_exporter": "python",
   "pygments_lexer": "ipython3",
   "version": "3.10.6"
  }
 },
 "nbformat": 4,
 "nbformat_minor": 2
}
