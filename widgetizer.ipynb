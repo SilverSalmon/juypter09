{
 "cells": [
  {
   "cell_type": "markdown",
   "metadata": {},
   "source": [
    "## Widget Viewer"
   ]
  },
  {
   "cell_type": "code",
   "execution_count": 15,
   "metadata": {},
   "outputs": [],
   "source": [
    "from PIL import Image\n",
    "import piexif  \n",
    "import json\n",
    "import os\n",
    "import ipywidgets as widgets\n",
    "from IPython.display import display\n",
    "\n",
    "# Assuming 'sd_samplers' and 'IGNORED_INFO_KEYS' are defined elsewhere in your project\n",
    "#  import them as needed"
   ]
  },
  {
   "cell_type": "code",
   "execution_count": null,
   "metadata": {},
   "outputs": [],
   "source": [
    "\n",
    "\n",
    "# Specify the directory containing your images\n",
    "image_directory = 'C:\\\\pydev\\\\webui_forge_cu121_torch21\\\\webui\\\\output\\\\txt2img-images\\\\2024-08-23'  # Replace with your actual directory\n",
    "\n",
    "# Get a list of image files in the directory\n",
    "image_files = [f for f in os.listdir(image_directory) if f.endswith(('.jpg', '.jpeg', '.png', '.gif'))]\n",
    "\n",
    "# Create a dropdown widget to select an image file\n",
    "image_dropdown = widgets.Dropdown(\n",
    "    options=image_files,\n",
    "    description='Select an image:',\n",
    "    disabled=False,\n",
    ")\n",
    "\n",
    "# Create an output widget to display the selected image\n",
    "image_output = widgets.Output()\n",
    "\n",
    "# Function to display the selected image\n",
    "def on_image_change(change):\n",
    "    with image_output:\n",
    "        image_output.clear_output()\n",
    "        if change['new']:\n",
    "            selected_image_path = os.path.join(image_directory, change['new'])\n",
    "            display(widgets.Image(value=open(selected_image_path, 'rb').read()))\n",
    "\n",
    "# Observe changes in the dropdown and update the image display\n",
    "image_dropdown.observe(on_image_change, names='value')\n",
    "\n",
    "# Display the widgets\n",
    "display(image_dropdown, image_output)"
   ]
  },
  {
   "cell_type": "code",
   "execution_count": null,
   "metadata": {},
   "outputs": [],
   "source": [
    "import os\n",
    "import shutil  # For moving files\n",
    "import ipywidgets as widgets\n",
    "from IPython.display import display\n",
    "\n",
    "# Specify the directories\n",
    "image_directory = 'C:\\\\pydev\\\\webui_forge_cu121_torch21\\\\webui\\\\output\\\\txt2img-images\\\\2024-08-23'  # Replace with your actual directory\n",
    "\n",
    "checked_directory = 'checked'\n",
    "delete_directory = 'deleted'\n",
    "\n",
    "# Create directories if they don't exist, within image_directory\n",
    "for directory in [checked_directory, delete_directory]:\n",
    "    directory_path = os.path.join(image_directory, directory)  # Construct the full path\n",
    "    if not os.path.exists(directory_path):\n",
    "        os.makedirs(directory_path)\n",
    "\n",
    "# Function to update the image dropdown options\n",
    "def update_dropdown():\n",
    "    image_files = [f for f in os.listdir(image_directory) if f.endswith(('.jpg', '.jpeg', '.png', '.gif'))]\n",
    "    image_dropdown.options = image_files\n",
    "\n",
    "# Create buttons\n",
    "check_button = widgets.Button(description='Move to Checked')\n",
    "delete_button = widgets.Button(description='Move to Deleted')\n",
    "\n",
    "# Function to handle button clicks\n",
    "def on_button_click(button):\n",
    "    with image_output:\n",
    "        if image_dropdown.value:\n",
    "            selected_image_path = os.path.join(image_directory, image_dropdown.value)\n",
    "            if button == check_button:\n",
    "                destination_path = os.path.join(image_directory, checked_directory) \n",
    "                shutil.move(selected_image_path, destination_path)\n",
    "            elif button == delete_button:\n",
    "                destination_path = os.path.join(image_directory, delete_directory)\n",
    "                shutil.move(selected_image_path, destination_path)\n",
    "            update_dropdown()  # Update the dropdown after moving the file\n",
    "            image_output.clear_output()\n",
    "\n",
    "\n",
    "\n",
    "\n",
    "# Attach click handlers to buttons\n",
    "check_button.on_click(on_button_click)\n",
    "delete_button.on_click(on_button_click)\n",
    "\n",
    "# ... (rest of the code from the previous response remains the same)\n",
    "\n",
    "# Display the widgets along with the buttons\n",
    "display(image_dropdown, image_output, check_button, delete_button)"
   ]
  },
  {
   "cell_type": "code",
   "execution_count": 33,
   "metadata": {},
   "outputs": [],
   "source": [
    "\n",
    "def read_info_from_image(image: Image.Image) -> tuple[str | None, dict]:\n",
    "    items = (image.info or {}).copy()\n",
    "\n",
    "    geninfo = items.pop('parameters', None)\n",
    "\n",
    "    return geninfo, items\n"
   ]
  },
  {
   "cell_type": "code",
   "execution_count": 35,
   "metadata": {},
   "outputs": [
    {
     "name": "stdout",
     "output_type": "stream",
     "text": [
      "geninfo: kate upton, highest quality, award-winning, professional erotic photo of (sexy pale woman rancher with beautiful blonde hair), ((pretty face)), seductive look, (wearing cowgirl outfit, daisy dukes), athletic body, large breasts, big ass, [thighs], candid, (breast worship:0.7), (detailed skin), [beauty marks], hyperrealistic photography, outdoors, standing in front of old western tavern, (storm clouds in the sky above), stormy weather, natural lighting, (crepuscular rays:0.6), photographed on a Nikon D6 , 50mm prime lens, F/2.6, (highly detailed), with Kodak Gold 200 film , film grain, dynamic angle, full body, cowboy shot, <lora:SexyConiAI:1> sexyai\n",
      "Steps: 20, Sampler: DPM++ 2M, Schedule type: Karras, CFG scale: 7, Seed: 2337888107, Size: 512x512, Model hash: 73ab0ffbb9, Model: clarity_2, Lora hashes: \"SexyConiAI: 0066417c401f\", Version: v1.10.1\n",
      "items: {}\n"
     ]
    }
   ],
   "source": [
    "image_path = \"C:\\\\pydev\\\\stable-diffusion-webui\\\\outputs\\\\txt2img-images\\\\2024-08-23\\\\00005-2337888107.png\"\n",
    "# \"C:\\pydev\\stable-diffusion-webui\\outputs\\txt2img-images\\2024-08-23\\00005-2337888107.png\"\n",
    "image = Image.open(image_path)\n",
    "\n",
    "geninfo, items = read_info_from_image(image)\n",
    "\n",
    "print(f'geninfo: {geninfo}')\n",
    "print(f'items: {items}')"
   ]
  },
  {
   "cell_type": "code",
   "execution_count": null,
   "metadata": {},
   "outputs": [],
   "source": []
  }
 ],
 "metadata": {
  "kernelspec": {
   "display_name": ".venv",
   "language": "python",
   "name": "python3"
  },
  "language_info": {
   "codemirror_mode": {
    "name": "ipython",
    "version": 3
   },
   "file_extension": ".py",
   "mimetype": "text/x-python",
   "name": "python",
   "nbconvert_exporter": "python",
   "pygments_lexer": "ipython3",
   "version": "3.10.6"
  }
 },
 "nbformat": 4,
 "nbformat_minor": 2
}
