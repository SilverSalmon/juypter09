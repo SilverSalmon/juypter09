{
 "cells": [
  {
   "cell_type": "markdown",
   "metadata": {},
   "source": [
    "# LORA Categorizer... Not really useful use 01"
   ]
  },
  {
   "cell_type": "code",
   "execution_count": 1,
   "metadata": {},
   "outputs": [],
   "source": [
    "import pprint\n",
    "import re\n",
    "import os"
   ]
  },
  {
   "cell_type": "code",
   "execution_count": 19,
   "metadata": {},
   "outputs": [
    {
     "name": "stdout",
     "output_type": "stream",
     "text": [
      "C:/pydev/comfyKrita/ComfyUI/models/loras/test\n"
     ]
    }
   ],
   "source": [
    "expCopyPath = \"C:\\pydev\\comfyKrita\\ComfyUI\\models\\loras\\\\test\"\n",
    "pathTojason = expCopyPath.replace(\"\\\\\", \"/\")\n",
    "\n",
    "print(pathTojason)"
   ]
  },
  {
   "cell_type": "markdown",
   "metadata": {},
   "source": [
    "# Categorized file"
   ]
  },
  {
   "cell_type": "code",
   "execution_count": 2,
   "metadata": {},
   "outputs": [],
   "source": [
    "import re\n",
    "\n",
    "def create_category_dict(categorized_txt_path):\n",
    "    category_dict = {}\n",
    "    with open(categorized_txt_path, 'r') as f:\n",
    "        current_category = None\n",
    "        for line in f:\n",
    "            line = line.strip()\n",
    "            if line.endswith(':'):  # New category\n",
    "                current_category = line[:-1] \n",
    "            elif line and current_category:\n",
    "                # Use regex to extract filenames between '<lora:' and ':'\n",
    "                filenames = re.findall(r'<lora:(.*?):\\d+>', line)\n",
    "                for filename in filenames:\n",
    "                    category_dict[filename + '.json'] = current_category\n",
    "    return category_dict\n",
    "\n",
    "categorized_txt_path = 'C:/pydev/comfyKrita/ComfyUI/models/loras/ponyLora/categorized.txt'  # Replace with your actual path\n",
    "category_dict = create_category_dict(categorized_txt_path)\n",
    "\n",
    "# pprint.pprint(category_dict)"
   ]
  },
  {
   "cell_type": "code",
   "execution_count": 3,
   "metadata": {},
   "outputs": [
    {
     "name": "stdout",
     "output_type": "stream",
     "text": [
      "{'celebrity', 'wearable', 'situations', 'art style'}\n"
     ]
    }
   ],
   "source": [
    "unique_categories = set(category_dict.values())\n",
    "print(unique_categories)"
   ]
  },
  {
   "cell_type": "code",
   "execution_count": 4,
   "metadata": {},
   "outputs": [],
   "source": [
    "def add_category_to_json_files(json_folder_path, category_dict):\n",
    "    for filename in os.listdir(json_folder_path):\n",
    "        if filename.endswith('.json'):\n",
    "            filepath = os.path.join(json_folder_path, filename)\n",
    "            with open(filepath, 'r+') as json_file:\n",
    "                data = json.load(json_file)\n",
    "\n",
    "                if 'category' not in data:\n",
    "                    category = category_dict.get(filename, 'uncategorized')  # Get category or 'uncategorized'\n",
    "                    data['category'] = category\n",
    "                    json_file.seek(0)\n",
    "                    json.dump(data, json_file, indent=4)\n",
    "                    json_file.truncate()"
   ]
  },
  {
   "cell_type": "code",
   "execution_count": 5,
   "metadata": {},
   "outputs": [
    {
     "ename": "NameError",
     "evalue": "name 'json' is not defined",
     "output_type": "error",
     "traceback": [
      "\u001b[1;31m---------------------------------------------------------------------------\u001b[0m",
      "\u001b[1;31mNameError\u001b[0m                                 Traceback (most recent call last)",
      "Cell \u001b[1;32mIn[5], line 3\u001b[0m\n\u001b[0;32m      1\u001b[0m json_folder_path \u001b[38;5;241m=\u001b[39m \u001b[38;5;124m'\u001b[39m\u001b[38;5;124mC:/pydev/comfyKrita/ComfyUI/models/loras/ponyLora\u001b[39m\u001b[38;5;124m'\u001b[39m  \u001b[38;5;66;03m# Replace with your actual path \u001b[39;00m\n\u001b[1;32m----> 3\u001b[0m \u001b[43madd_category_to_json_files\u001b[49m\u001b[43m(\u001b[49m\u001b[43mjson_folder_path\u001b[49m\u001b[43m,\u001b[49m\u001b[43m \u001b[49m\u001b[43mcategory_dict\u001b[49m\u001b[43m)\u001b[49m\n",
      "Cell \u001b[1;32mIn[4], line 6\u001b[0m, in \u001b[0;36madd_category_to_json_files\u001b[1;34m(json_folder_path, category_dict)\u001b[0m\n\u001b[0;32m      4\u001b[0m filepath \u001b[38;5;241m=\u001b[39m os\u001b[38;5;241m.\u001b[39mpath\u001b[38;5;241m.\u001b[39mjoin(json_folder_path, filename)\n\u001b[0;32m      5\u001b[0m \u001b[38;5;28;01mwith\u001b[39;00m \u001b[38;5;28mopen\u001b[39m(filepath, \u001b[38;5;124m'\u001b[39m\u001b[38;5;124mr+\u001b[39m\u001b[38;5;124m'\u001b[39m) \u001b[38;5;28;01mas\u001b[39;00m json_file:\n\u001b[1;32m----> 6\u001b[0m     data \u001b[38;5;241m=\u001b[39m \u001b[43mjson\u001b[49m\u001b[38;5;241m.\u001b[39mload(json_file)\n\u001b[0;32m      8\u001b[0m     \u001b[38;5;28;01mif\u001b[39;00m \u001b[38;5;124m'\u001b[39m\u001b[38;5;124mcategory\u001b[39m\u001b[38;5;124m'\u001b[39m \u001b[38;5;129;01mnot\u001b[39;00m \u001b[38;5;129;01min\u001b[39;00m data:\n\u001b[0;32m      9\u001b[0m         category \u001b[38;5;241m=\u001b[39m category_dict\u001b[38;5;241m.\u001b[39mget(filename, \u001b[38;5;124m'\u001b[39m\u001b[38;5;124muncategorized\u001b[39m\u001b[38;5;124m'\u001b[39m)  \u001b[38;5;66;03m# Get category or 'uncategorized'\u001b[39;00m\n",
      "\u001b[1;31mNameError\u001b[0m: name 'json' is not defined"
     ]
    }
   ],
   "source": [
    "json_folder_path = 'C:/pydev/comfyKrita/ComfyUI/models/loras/ponyLora'  # Replace with your actual path \n",
    "\n",
    "add_category_to_json_files(json_folder_path, category_dict)"
   ]
  },
  {
   "cell_type": "code",
   "execution_count": 7,
   "metadata": {},
   "outputs": [
    {
     "data": {
      "application/vnd.jupyter.widget-view+json": {
       "model_id": "b56dccbd7190439e8cf22ce42fb8297e",
       "version_major": 2,
       "version_minor": 0
      },
      "text/plain": [
       "Label(value='debreast_carve_PonyXL.json')"
      ]
     },
     "metadata": {},
     "output_type": "display_data"
    },
    {
     "data": {
      "application/vnd.jupyter.widget-view+json": {
       "model_id": "8e524d8d6c96461d8e7f98fe116b9e99",
       "version_major": 2,
       "version_minor": 0
      },
      "text/plain": [
       "Text(value='', continuous_update=False, placeholder='Enter new category')"
      ]
     },
     "metadata": {},
     "output_type": "display_data"
    },
    {
     "data": {
      "application/vnd.jupyter.widget-view+json": {
       "model_id": "72272a1b856d453abf2e8da0333e37e2",
       "version_major": 2,
       "version_minor": 0
      },
      "text/plain": [
       "Button(description='Next', style=ButtonStyle())"
      ]
     },
     "metadata": {},
     "output_type": "display_data"
    }
   ],
   "source": [
    "import ipywidgets as widgets\n",
    "import json\n",
    "import os\n",
    "import re\n",
    "\n",
    "def create_category_dict(categorized_txt_path):\n",
    "    category_dict = {}\n",
    "    with open(categorized_txt_path, 'r') as f:\n",
    "        current_category = None\n",
    "        for line in f:\n",
    "            line = line.strip()\n",
    "            if line.endswith(':'):  # New category\n",
    "                current_category = line[:-1] \n",
    "            elif line and current_category:\n",
    "                filenames = re.findall(r'<lora:(.*?):\\d+>', line)\n",
    "                for filename in filenames:\n",
    "                    category_dict[filename + '.json'] = current_category\n",
    "    return category_dict\n",
    "\n",
    "def find_uncategorized_json_files(json_folder_path):\n",
    "    uncategorized_files = []\n",
    "    for filename in os.listdir(json_folder_path):\n",
    "        if filename.endswith('.json'):\n",
    "            filepath = os.path.join(json_folder_path, filename)\n",
    "            with open(filepath, 'r') as json_file:\n",
    "                data = json.load(json_file)\n",
    "                if 'category' not in data or data['category'] == 'uncategorized':\n",
    "                    uncategorized_files.append(filename)\n",
    "    return uncategorized_files\n",
    "\n",
    "def update_json_file(filename, new_category):\n",
    "    filepath = os.path.join(json_folder_path, filename)\n",
    "    with open(filepath, 'r+') as json_file:\n",
    "        data = json.load(json_file)\n",
    "        data['category'] = new_category\n",
    "        json_file.seek(0)\n",
    "        json.dump(data, json_file, indent=4)\n",
    "        json_file.truncate()\n",
    "\n",
    "def on_next_button_click(button):\n",
    "    global current_file_index\n",
    "\n",
    "    if current_file_index < len(uncategorized_files):\n",
    "        filename = uncategorized_files[current_file_index]\n",
    "        filename_label.value = filename\n",
    "        # category_input.value = '' \n",
    "        current_file_index += 1\n",
    "        category_input.focus()\n",
    "    else:\n",
    "        filename_label.value = \"No more uncategorized files!\"\n",
    "        category_input.disabled = True\n",
    "        next_button.disabled = True\n",
    "\n",
    "json_folder_path = 'path/to/your/json/folder'  # Replace with your actual path\n",
    "categorized_txt_path = 'path/to/categorized.txt'  # Replace with your actual path\n",
    "json_folder_path = 'C:/pydev/comfyKrita/ComfyUI/models/loras/ponyLora'\n",
    "categorized_txt_path = 'C:/pydev/comfyKrita/ComfyUI/models/loras/ponyLora/categorized.txt'\n",
    "category_dict = create_category_dict(categorized_txt_path)\n",
    "\n",
    "uncategorized_files = find_uncategorized_json_files(json_folder_path)\n",
    "current_file_index = 0\n",
    "\n",
    "filename_label = widgets.Label(value=uncategorized_files[current_file_index])\n",
    "category_input = widgets.Text(placeholder='Enter new category')\n",
    "next_button = widgets.Button(description='Next')\n",
    "next_button.on_click(on_next_button_click)\n",
    "\n",
    "category_input.continuous_update = False \n",
    "\n",
    "def on_category_input_change(change):\n",
    "    if change['new']: \n",
    "        new_category = change['new']\n",
    "        filename = filename_label.value\n",
    "        update_json_file(filename, new_category)\n",
    "        on_next_button_click(None) \n",
    "        \n",
    "\n",
    "category_input.observe(on_category_input_change, names='value')\n",
    "\n",
    "display(filename_label, category_input, next_button)\n",
    "\n",
    "# {'art style', 'celebrity', 'situations', 'wearable'}"
   ]
  },
  {
   "cell_type": "code",
   "execution_count": null,
   "metadata": {},
   "outputs": [],
   "source": []
  }
 ],
 "metadata": {
  "kernelspec": {
   "display_name": "venv",
   "language": "python",
   "name": "python3"
  },
  "language_info": {
   "codemirror_mode": {
    "name": "ipython",
    "version": 3
   },
   "file_extension": ".py",
   "mimetype": "text/x-python",
   "name": "python",
   "nbconvert_exporter": "python",
   "pygments_lexer": "ipython3",
   "version": "3.10.6"
  }
 },
 "nbformat": 4,
 "nbformat_minor": 2
}
