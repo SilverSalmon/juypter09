{
 "cells": [
  {
   "cell_type": "markdown",
   "metadata": {},
   "source": [
    "# LORA Categorizer"
   ]
  },
  {
   "cell_type": "code",
   "execution_count": 16,
   "metadata": {},
   "outputs": [],
   "source": [
    "import pprint\n",
    "import re\n",
    "import os"
   ]
  },
  {
   "cell_type": "code",
   "execution_count": 19,
   "metadata": {},
   "outputs": [
    {
     "name": "stdout",
     "output_type": "stream",
     "text": [
      "C:/pydev/comfyKrita/ComfyUI/models/loras/test\n"
     ]
    }
   ],
   "source": [
    "expCopyPath = \"C:\\pydev\\comfyKrita\\ComfyUI\\models\\loras\\\\test\"\n",
    "pathTojason = expCopyPath.replace(\"\\\\\", \"/\")\n",
    "\n",
    "print(pathTojason)"
   ]
  },
  {
   "cell_type": "markdown",
   "metadata": {},
   "source": [
    "# Categorized file"
   ]
  },
  {
   "cell_type": "code",
   "execution_count": 12,
   "metadata": {},
   "outputs": [
    {
     "name": "stdout",
     "output_type": "stream",
     "text": [
      "{'0580 ada wong fan costume 2_v1_pony.json': 'wearable', 'amputee_XL_pony.json': 'wearable', 'black_woman-000002.json': 'wearable', 'BDSM_PONY.json': 'wearable', 'bigeyes-ponyxl-v1.json': 'wearable', 'bulgeallXLPony.json': 'wearable', 'Concept_Slutty_Clothes.json': 'wearable', 'Concept_X-ray_vision.json': 'wearable', 'Doggystlye_arms_held_back.json': 'wearable', 'Expressive_H-000001.json': 'wearable', 'groping_poses-000009.json': 'wearable', 'handcuffs.json': 'wearable', 'Legs_behind_head-000006.json': 'wearable', 'Maggots-40.json': 'wearable', 'multi_prolapse_ponyXL_v1.json': 'wearable', 'nipple-penetration-ponyxl-v1.json': 'wearable', 'Pain_Fear_and_Desperation_Pony.json': 'wearable', 'ponyxl-choking-concept-v03.json': 'wearable', 'ponyxl_concept-bruised_face.json': 'wearable', 'PonyXL_FAP_CONCEPT_HeadInsertion_ownwaifu.json': 'wearable', 'posture_collar.json': 'wearable', 'PoutyPonyXL_v1.json': 'wearable', 'PulenKompot-Pregnant-PonyXL.json': 'wearable', 'three_holes_knit_ski_mask.json': 'wearable', 'yoke_pony-000006.json': 'wearable', 'Elbows_tied-000006.json': 'wearable', 'Abstract_Charcoal_Pony_XL.json': 'art style', 'Artgerm_XL_PONY.json': 'art style', 'Art_Adams_Style_Pony_XL.json': 'art style', 'ComicsPonyXL_V2.json': 'art style', 'Dark_Aura_for_Pony.json': 'art style', 'detailer_pony_v4-000010.json': 'art style', 'elpodi_style.json': 'art style', 'Fonglets_Sabudenego_Pony_XL.json': 'art style', 'Jim_Lee_Style_LoRA_Pony.json': 'art style', 'Medieval_prison_warm_anime.json': 'art style', 'Michael TurnerStylePonyLyco.json': 'art style', 'R3DStyle.json': 'art style', 'Rivawi_Pony.json': 'art style', 'Serpieri_for_Pony-000011.json': 'art style', 'StrayStyle_v1.json': 'art style', 'tarakanovich1.5.json': 'art style', 'tarakanovich1.75.json': 'art style', 'Style_Fernando-PDXL.json': 'art style', 'theOfficialPITThepit_v10.json': 'art style', 'anhahaway_ponyxl_autism_xl_1_standard_merger_15_43_96_02_03_05-anxhathaway.json': 'celebrity', 'Anna_Kendrick_v5_pxl.json': 'celebrity', 'Harley_Quinn_2019_Pony.json': 'celebrity', 'Isabella_Roberts_-_Being_a_DIK.json': 'celebrity', 'Jasmine_Aladdin_PONY_edit_by_Foxie.json': 'celebrity', 'jenortega_ponyxl_autism_standard_xl_1_jenxortega-000097.json': 'celebrity', 'MargotRobbie_PXL.json': 'celebrity', 'meikoXL.json': 'celebrity', 'Remy Lacroix PonyXL.json': 'celebrity', 'scjohansson_ponyxl_autism_xl_1_standard_merger_51_23_07_03_scxjohansson.json': 'celebrity', 'str1pp3r3ll4-000012.json': 'celebrity', 'taySwiftPony-000014.json': 'celebrity', 'BBQ_pony_v1.json': 'situations', 'Bdsm_Feet.json': 'situations', 'beheaded_pony_v1.json': 'situations', 'beheading_pony.json': 'situations', 'breast_tentacle.json': 'situations', 'chairtied_pony-000005.json': 'situations', 'defeated after sex xl v1 goofy.json': 'situations', 'Doggy_Fingers-000015.json': 'situations', 'execution_hanged_pony_v2.json': 'situations', 'explodingclothes_pony.json': 'situations', 'Fonglets_PointingGun_Pony_XL.json': 'situations', 'guillotine_v1.json': 'situations', 'guillotine_v2.json': 'situations', 'hanging_preparing_pony.json': 'situations', 'HeadscissorsSDXL.json': 'situations', 'hud_quiks4nd_XLP.json': 'situations', 'hud_wsh_XLP.json': 'situations', 'Hunting trophy_PONYXL_V1.json': 'situations', 'machinesex_PO_V1_0-000008.json': 'situations', 'Milking_Machines.json': 'situations', 'onarmor_pony_xl.json': 'situations', 'Pet_Play_Bondage_v3-000006.json': 'situations', 'Pony gynchair-v2.0.json': 'situations', 'pony sexual energy ship v1.0.json': 'situations', 'PONYXL_CONCEPT_PovDating_ownwaifu.json': 'situations', 'PunchingBagPonyV1-000030.json': 'situations', 'Skirt_lift-_Assisted_Exposure_Pony.json': 'situations', 'snake_bondage.json': 'situations', 'Symbiote_Venoms_Assimilation_Ver2.json': 'situations', 'ugly.json': 'situations', 'tentacletrap_concept_ponyxl_ilff.json': 'situations'}\n"
     ]
    }
   ],
   "source": [
    "import re\n",
    "\n",
    "def create_category_dict(categorized_txt_path):\n",
    "    category_dict = {}\n",
    "    with open(categorized_txt_path, 'r') as f:\n",
    "        current_category = None\n",
    "        for line in f:\n",
    "            line = line.strip()\n",
    "            if line.endswith(':'):  # New category\n",
    "                current_category = line[:-1] \n",
    "            elif line and current_category:\n",
    "                # Use regex to extract filenames between '<lora:' and ':'\n",
    "                filenames = re.findall(r'<lora:(.*?):\\d+>', line)\n",
    "                for filename in filenames:\n",
    "                    category_dict[filename + '.json'] = current_category\n",
    "    return category_dict\n",
    "\n",
    "categorized_txt_path = 'C:/pydev/comfyKrita/ComfyUI/models/loras/ponyLora/categorized.txt'  # Replace with your actual path\n",
    "category_dict = create_category_dict(categorized_txt_path)\n",
    "\n",
    "# pprint.pprint(category_dict)"
   ]
  },
  {
   "cell_type": "code",
   "execution_count": 26,
   "metadata": {},
   "outputs": [
    {
     "name": "stdout",
     "output_type": "stream",
     "text": [
      "{'art style', 'celebrity', 'situations', 'wearable'}\n"
     ]
    }
   ],
   "source": [
    "unique_categories = set(category_dict.values())\n",
    "print(unique_categories)"
   ]
  },
  {
   "cell_type": "code",
   "execution_count": 17,
   "metadata": {},
   "outputs": [],
   "source": [
    "def add_category_to_json_files(json_folder_path, category_dict):\n",
    "    for filename in os.listdir(json_folder_path):\n",
    "        if filename.endswith('.json'):\n",
    "            filepath = os.path.join(json_folder_path, filename)\n",
    "            with open(filepath, 'r+') as json_file:\n",
    "                data = json.load(json_file)\n",
    "\n",
    "                if 'category' not in data:\n",
    "                    category = category_dict.get(filename, 'uncategorized')  # Get category or 'uncategorized'\n",
    "                    data['category'] = category\n",
    "                    json_file.seek(0)\n",
    "                    json.dump(data, json_file, indent=4)\n",
    "                    json_file.truncate()"
   ]
  },
  {
   "cell_type": "code",
   "execution_count": 24,
   "metadata": {},
   "outputs": [],
   "source": [
    "json_folder_path = 'C:/pydev/comfyKrita/ComfyUI/models/loras/test'  # Replace with your actual path \n",
    "\n",
    "add_category_to_json_files(json_folder_path, category_dict)"
   ]
  },
  {
   "cell_type": "code",
   "execution_count": 38,
   "metadata": {},
   "outputs": [
    {
     "data": {
      "application/vnd.jupyter.widget-view+json": {
       "model_id": "67baadfe27dd4500b6efbf1944716660",
       "version_major": 2,
       "version_minor": 0
      },
      "text/plain": [
       "Label(value='defeated after sex xl v1 goofy_2.json')"
      ]
     },
     "metadata": {},
     "output_type": "display_data"
    },
    {
     "data": {
      "application/vnd.jupyter.widget-view+json": {
       "model_id": "76c35234217e4c7e944c618937050bb1",
       "version_major": 2,
       "version_minor": 0
      },
      "text/plain": [
       "Text(value='', continuous_update=False, placeholder='Enter new category')"
      ]
     },
     "metadata": {},
     "output_type": "display_data"
    },
    {
     "data": {
      "application/vnd.jupyter.widget-view+json": {
       "model_id": "05d5e1a8b0f34da6a4ba2eccd859ec4f",
       "version_major": 2,
       "version_minor": 0
      },
      "text/plain": [
       "Button(description='Next', style=ButtonStyle())"
      ]
     },
     "metadata": {},
     "output_type": "display_data"
    }
   ],
   "source": [
    "import ipywidgets as widgets\n",
    "import json\n",
    "import os\n",
    "import re\n",
    "\n",
    "def create_category_dict(categorized_txt_path):\n",
    "    category_dict = {}\n",
    "    with open(categorized_txt_path, 'r') as f:\n",
    "        current_category = None\n",
    "        for line in f:\n",
    "            line = line.strip()\n",
    "            if line.endswith(':'):  # New category\n",
    "                current_category = line[:-1] \n",
    "            elif line and current_category:\n",
    "                filenames = re.findall(r'<lora:(.*?):\\d+>', line)\n",
    "                for filename in filenames:\n",
    "                    category_dict[filename + '.json'] = current_category\n",
    "    return category_dict\n",
    "\n",
    "def find_uncategorized_json_files(json_folder_path):\n",
    "    uncategorized_files = []\n",
    "    for filename in os.listdir(json_folder_path):\n",
    "        if filename.endswith('.json'):\n",
    "            filepath = os.path.join(json_folder_path, filename)\n",
    "            with open(filepath, 'r') as json_file:\n",
    "                data = json.load(json_file)\n",
    "                if 'category' not in data or data['category'] == 'uncategorized':\n",
    "                    uncategorized_files.append(filename)\n",
    "    return uncategorized_files\n",
    "\n",
    "def update_json_file(filename, new_category):\n",
    "    filepath = os.path.join(json_folder_path, filename)\n",
    "    with open(filepath, 'r+') as json_file:\n",
    "        data = json.load(json_file)\n",
    "        data['category'] = new_category\n",
    "        json_file.seek(0)\n",
    "        json.dump(data, json_file, indent=4)\n",
    "        json_file.truncate()\n",
    "\n",
    "def on_next_button_click(button):\n",
    "    global current_file_index\n",
    "\n",
    "    if current_file_index < len(uncategorized_files):\n",
    "        filename = uncategorized_files[current_file_index]\n",
    "        filename_label.value = filename\n",
    "        # category_input.value = '' \n",
    "        current_file_index += 1\n",
    "        category_input.focus()\n",
    "    else:\n",
    "        filename_label.value = \"No more uncategorized files!\"\n",
    "        category_input.disabled = True\n",
    "        next_button.disabled = True\n",
    "\n",
    "json_folder_path = 'path/to/your/json/folder'  # Replace with your actual path\n",
    "categorized_txt_path = 'path/to/categorized.txt'  # Replace with your actual path\n",
    "json_folder_path = 'C:/pydev/comfyKrita/ComfyUI/models/loras/test'\n",
    "categorized_txt_path = 'C:/pydev/comfyKrita/ComfyUI/models/loras/ponyLora/categorized.txt'\n",
    "category_dict = create_category_dict(categorized_txt_path)\n",
    "\n",
    "uncategorized_files = find_uncategorized_json_files(json_folder_path)\n",
    "current_file_index = 0\n",
    "\n",
    "filename_label = widgets.Label(value=uncategorized_files[current_file_index])\n",
    "category_input = widgets.Text(placeholder='Enter new category')\n",
    "next_button = widgets.Button(description='Next')\n",
    "next_button.on_click(on_next_button_click)\n",
    "\n",
    "category_input.continuous_update = False \n",
    "\n",
    "def on_category_input_change(change):\n",
    "    if change['new']: \n",
    "        new_category = change['new']\n",
    "        filename = filename_label.value\n",
    "        update_json_file(filename, new_category)\n",
    "        on_next_button_click(None) \n",
    "        \n",
    "\n",
    "category_input.observe(on_category_input_change, names='value')\n",
    "\n",
    "display(filename_label, category_input, next_button)\n",
    "\n",
    "# {'art style', 'celebrity', 'situations', 'wearable'}"
   ]
  }
 ],
 "metadata": {
  "kernelspec": {
   "display_name": "venv",
   "language": "python",
   "name": "python3"
  },
  "language_info": {
   "codemirror_mode": {
    "name": "ipython",
    "version": 3
   },
   "file_extension": ".py",
   "mimetype": "text/x-python",
   "name": "python",
   "nbconvert_exporter": "python",
   "pygments_lexer": "ipython3",
   "version": "3.10.6"
  }
 },
 "nbformat": 4,
 "nbformat_minor": 2
}
