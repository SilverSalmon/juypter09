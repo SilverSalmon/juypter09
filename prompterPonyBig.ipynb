{
 "cells": [
  {
   "cell_type": "markdown",
   "metadata": {},
   "source": [
    "# PROMPTER"
   ]
  },
  {
   "cell_type": "markdown",
   "metadata": {},
   "source": [
    "# LORAs"
   ]
  },
  {
   "cell_type": "code",
   "execution_count": 1,
   "metadata": {},
   "outputs": [],
   "source": [
    "# Read in the LORA Files\n",
    "\n",
    "import os\n",
    "import json\n",
    "\n",
    "directory = \"C:/pydev/comfyKrita/ComfyUI/models/loras/ponyLora\"  # Forward slashes or raw string \n",
    "\n",
    "json_files = [file for file in os.listdir(directory) if file.endswith(\".json\")]\n",
    "# print(json_files)\n",
    "\n",
    "files_to_remove = [\n",
    "    \"anhahaway_ponyxl_autism_xl_1_standard_merger_15_43_96_02_03_05-anxhathaway.json\",\n",
    "    \"Jasmine_Aladdin_PONY_edit_by_Foxie.json\",\n",
    "    \"yet_another_file.json\"\n",
    "]\n",
    "\n",
    "json_files2 = [file for file in json_files if file not in files_to_remove]\n",
    "\n",
    "# print(json_files2)\n",
    "\n",
    "for file in json_files2:\n",
    "    file_path = os.path.join(directory, file)\n",
    "\n",
    "    try:  # This handles cases where a file might not be valid JSON\n",
    "        with open(file_path, \"r\") as json_file:\n",
    "            data = json.load(json_file)\n",
    "            # Now you can process the 'data' dictionary\n",
    "            # print(f\"Processing {file_path}:\")\n",
    "            # ... your code to work with the JSON data ...\n",
    "    except json.JSONDecodeError:\n",
    "        print(f\"Warning: {file_path} is not valid JSON.\")\n"
   ]
  },
  {
   "cell_type": "code",
   "execution_count": 26,
   "metadata": {},
   "outputs": [],
   "source": [
    "import os\n",
    "import json\n",
    "\n",
    "directory = \"C:/pydev/comfyKrita/ComfyUI/models/loras/ponyLora\"\n",
    "json_files = [file for file in os.listdir(directory) if file.endswith(\".json\")]\n",
    "\n",
    "activation_texts = []  # Create an empty list to store the text\n",
    "\n",
    "for file in json_files:\n",
    "    file_path = os.path.join(directory, file)\n",
    "\n",
    "    try:\n",
    "        with open(file_path, \"r\") as json_file:\n",
    "            data = json.load(json_file)\n",
    "            if \"preferred weight\" in data:\n",
    "                preferred_weight = data[\"preferred weight\"]\n",
    "                if preferred_weight == 0:\n",
    "                    preferred_weight = 1\n",
    "            else:\n",
    "                preferred_weight = 1\n",
    "            # Extract and print the activation text\n",
    "            if \"activation text\" in data:\n",
    "                activation_text = data[\"activation text\"]\n",
    "                file_name_without_ext = os.path.splitext(file)[0]  \n",
    "                activation_texts.append(f\"<lora:{file_name_without_ext}:{preferred_weight}>, {activation_text}\")\n",
    "                # print(f\"<lora:{file}:1>, {activation_text}\")\n",
    "                # activation_texts.append(f\"<lora:{file}:1>, {activation_text}\")\n",
    "            else:\n",
    "                print(f\"Warning: 'activation text' not found in {file}\")\n",
    "\n",
    "    except json.JSONDecodeError:\n",
    "        print(f\"Warning: {file_path} is not valid JSON.\")\n"
   ]
  },
  {
   "cell_type": "code",
   "execution_count": 2,
   "metadata": {},
   "outputs": [],
   "source": [
    "# print(activation_texts)"
   ]
  },
  {
   "cell_type": "code",
   "execution_count": 25,
   "metadata": {},
   "outputs": [],
   "source": [
    "# output_file = \"laras.txt\"\n",
    "# with open(output_file, \"w\") as file:\n",
    "#     for text in activation_texts:\n",
    "#         file.write(text + \"\\n\")  # Add newline after each text"
   ]
  },
  {
   "cell_type": "code",
   "execution_count": 4,
   "metadata": {},
   "outputs": [],
   "source": [
    "activation_texts_wearables = ['<lora:0580 ada wong fan costume 2_v1_pony:1>, ruanyi0580,bdsm,black bodysuit,no bra,nipples,open bodysuit,unzipped',\\\n",
    "'<lora:amputee_XL_pony:1>, amputee',\\\n",
    "\n",
    "'<lora:BDSM_PONY:.4>, BDSM,Huge Breasts, bondage, heavy restraints,',\\\n",
    "\n",
    "'<lora:breast_expansion:0.85>, breast expansion, growth, expansion, comic frames,',\\\n",
    "'<lora:bulgeallXLPony:1>, stomach bulge, vaginal, ',\\\n",
    "'<lora:Concept_Slutty_Clothes:1>, slutty_clothes,makeup, jewelry',\\\n",
    "# '<lora:Concept_X-ray_vision:1>, xrayvision, x-ray, penis,sex, vaginal, internal cumshot, cum in vagina',\\\n",
    "'<lora:Doggystlye_arms_held_back:1>, doggystyle, arms back, bent over,',\\\n",
    "\n",
    "'<lora:groping_poses-000009:1>, groping, grabbing, breast grab, fingering,',\\\n",
    "# '<lora:handcuffs:1>, handcuffs,bound,bound wrists,looking at viewer,bound,bondage,bdsm,',\\\n",
    "# '<lora:Legs_behind_head-000006:.5>, legs behind head, legs up',\\\n",
    "# '<lora:Maggots-40:.4>, Maggots, worms, flies',\\\n",
    "# '<lora:multi_prolapse_ponyXL_v1:1>, double prolapse',\\\n",
    "'<lora:nipple-penetration-ponyxl-v1:1>, nipple penetration, squirting, double penetration',\\\n",
    "'sex,sex from behind,strangling,orc testicles,<lora:chokesex:0.8>,stomach bulge,stretch, 1woman,afraid,teeth clenched,(1 male green ork) behind woman,asphyxiation,ass,blush,breasts,choke hold,chokesex'\n",
    "'<lora:ponyxl-choking-concept-v03:1>, choking',\\\n",
    "\n",
    "# '<lora:PonyXL_FAP_CONCEPT_HeadInsertion_ownwaifu:1>, FAP_CONCEPT_HeadInsertion_ownwaifu',\\\n",
    "'<lora:posture_collar:1>, posture collar',\\\n",
    "\n",
    "'<lora:PulenKompot-Pregnant-PonyXL:1>, preggo,pregnant',\\\n",
    "\n",
    "'<lora:three_holes_knit_ski_mask:1>, threeholkn1tskimask, three holes knit ski mask, man with mask, ',\\\n",
    "'<lora:Uncensored_PonyXL_cpt_v03:.8>, SPREAD PUSSY,CERVIX,CLITORIS,URETHRA,CLOSE-UP',\\\n",
    "'<lora:yoke_pony-000006:1>, metalyoke, metal cuffs, helpless',\\\n",
    "'<lora:Elbows_tied-000006:1>, elbows tied']"
   ]
  },
  {
   "cell_type": "code",
   "execution_count": 5,
   "metadata": {},
   "outputs": [],
   "source": [
    "activation_texts_style = [\n",
    "# '<lora:Abstract_Charcoal_Pony_XL:1>, Charcoal Style',\\\n",
    "'<lora:Archie_Comics_PDXL:.8>, archcomicxl, flat colors,',\\\n",
    "# '<lora:Artgerm_XL_PONY:.5>, artgerm,art by stanley lau',\\\n",
    "'<lora:Art_Adams_Style_Pony_XL:.5>, dskxadms,comic art style',\\\n",
    "# '<lora:ComicsPonyXL_V2:1>, Comistyle',\\\n",
    "# '<lora:Dark_Aura_for_Pony:1>, dark aura',\\\n",
    "# '<lora:detailer_pony_v4-000010:1>, detaillora',\\\n",
    "# '<lora:elpodi_style:1>, elpodi style',\\\n",
    "# '<lora:Fonglets_Sabudenego_Pony_XL:1>, sabudenego art, close up',\\\n",
    "'<lora:hud_d_d3carlo_styl_XLP:.7>, hud_d_d3carlo_styl, monochrome',\\\n",
    "'<lora:Jim_Lee_Style_LoRA_Pony:1>, in j_lee artstyle',\\\n",
    "'<lora:Medieval_prison_warm_anime:1>, Medieval prison, chains, blood',\\\n",
    "'<lora:Michael TurnerStylePonyLyco:1>, mtms',\\\n",
    "'<lora:R3DStyle:.5>, r3dstyle',\\\n",
    "'<lora:Rivawi_Pony:.7>, rivawi style',\\\n",
    "'<lora:Serpieri_for_Pony-000011:1>, by Serpieri',\\\n",
    "'<lora:StrayStyle_v1:.6>, straystyle',\\\n",
    "# '<lora:tarakanovich1.5:1>, tarakanovich',\\\n",
    "# '<lora:tarakanovich1.75:1>, tarakanovich',\\\n",
    "'<lora:thesabu-000012:.8>, realistic',\\\n",
    "'<lora:Style_Fernando-PDXL:1>, f3rn4nd0, (line art), (chiaroscuro lighting)',\\\n",
    "'<lora:theOfficialPITThepit_v10:1>, lips, thick lips'\n",
    "]\n",
    "\n",
    "# activation_texts_style = ['']"
   ]
  },
  {
   "cell_type": "code",
   "execution_count": 6,
   "metadata": {},
   "outputs": [],
   "source": [
    "activation_texts_celebrity = [\n",
    "'<lora:anhahaway_ponyxl_autism_xl_1_standard_merger_15_43_96_02_03_05-anxhathaway:1>, anxhathaway',\\\n",
    "'<lora:Anna_Kendrick_v5_pxl:1>, 1girl',\\\n",
    "'<lora:CrunchyBanana_PONY_dora_kaley_cuoco:.8>, ohwx',\\\n",
    "'<lora:Harley_Quinn_2019_Pony:1>, Harley Quinn',\\\n",
    "'<lora:Isabella_Roberts_-_Being_a_DIK:1>, bella',\\\n",
    "'<lora:Jasmine_Aladdin_PONY_edit_by_Foxie:1>, Jasmine, Disney anime, original style',\\\n",
    "'<lora:jenortega_ponyxl_autism_standard_xl_1_jenxortega-000097:1>, jenxortega',\\\n",
    "'<lora:MargotRobbie_PXL:1>, Margot',\\\n",
    "'<lora:meikoXL:1>, meiko',\\\n",
    "'<lora:Remy Lacroix PonyXL:.4>, remylacroix, hazel eyes',\\\n",
    "'<lora:scjohansson_ponyxl_autism_xl_1_standard_merger_51_23_07_03_scxjohansson:1>, scxjohansson',\\\n",
    "'<lora:str1pp3r3ll4-000012:.8>, 1girl, xstr1pp3r3ll4x, blonde hair, long hair, makeup, lipstick, blue eyes, ponytail, large breasts',\\\n",
    "'<lora:taySwiftPony-000014:1>, taySwift',\n",
    "'<lora:kimKardashianPonyRealism:1>, kimKardashian'\n",
    "]\n"
   ]
  },
  {
   "cell_type": "code",
   "execution_count": null,
   "metadata": {},
   "outputs": [],
   "source": []
  },
  {
   "cell_type": "code",
   "execution_count": 7,
   "metadata": {},
   "outputs": [],
   "source": [
    "activation_texts_situations = [\n",
    "'<lora:Bdsm_Feet:1>, feet roasting, feet locked in stocks, flame, toes curl,barefoot, feet, soles, toes',\\\n",
    "# '<lora:beheaded_pony_v1:1>, beheaded, sword',\\\n",
    "# '<lora:beheading_pony:1>, beheading, sword',\\\n",
    "'<lora:breast_tentacle:1>, tentacle on breast, tentacle sucking breast, breast sucking, tentacle sex, torn clothes, tentacles, rape, restrained, nipples',\\\n",
    "'<lora:chairtied_pony-000005:1>, ch4irtied, improvised gag, pantyhose, see-through legwear, high heels',\\\n",
    "'<lora:defeated after sex xl v1 goofy:1>, defeated sex, pussy,beaten, severely beaten',\\\n",
    "'<lora:Doggy_Fingers-000015:1>, doggyfingerser, 2girls, sex from behind, fingering, large breasts',\\\n",
    "'<lora:execution_hanged_pony_v2:1>, rope, noose, execution, hanging_data, 1girl, breasts, hanging',\\\n",
    "# '<lora:explodingclothes_pony:1>, exploding clothes, torn clothes, surprised, blush, looking down, motion lines, speed lines, bouncing breasts, bursting breasts',\\\n",
    "'<lora:Concept_Defeated_Heroine_XL-000001:.8>, DEFEATEDXL, MINDBREAK, FUCKED_SILLY, DEFEATED_HEROINE',\\\n",
    "'<lora:Fonglets_PointingGun_Pony_XL:1>, solo focus,holding weapon,handgun,terrified,revolver,imminent bdsm,gun to head',\\\n",
    "'<lora:Foot_torture-000012:.7>, bastinado, 1girl, barefoot, soles, soles focus, in pain, scared, looking up, crying',\\\n",
    "'<lora:guillotine_v1:1>, bent over,pillory,(guillotine),neck in wooden frame,arms behind her back,executions by beheading',\\\n",
    "# '<lora:guillotine_v2:1>, bent over,pillory,(guillotine),neck in wooden frame,arms behind her back,executions by beheading',\\\n",
    "'<lora:hanging_preparing_pony:1>, hanging preparing, rope, noose, execution',\\\n",
    "# '<lora:HeadscissorsSDXL:1>, headscissorssdxl, ass',\\\n",
    "'<lora:hud_quiks4nd_XLP:1>, hud_quiks4nd, dirt, mud, quicksand, outdoors, partially submerged, dirty face',\\\n",
    "'<lora:hud_wsh_XLP:1>, hud_wsh, 1girl, full body, washing, car, wet, soap bubbles, rag,high heels',\\\n",
    "'<lora:Hunting trophy_PONYXL_V1:1>, (hunting trophy:0.7),(shield:0.8),face,breast,afraid,scared,crying,pleading,naked,iron collar',\\\n",
    "'<lora:machinesex_PO_V1_0-000008:1>, sex machine, dildo, bound, bdsm, bondage, monitor, bound wrists, bound arms',\\\n",
    "# '<lora:Milking_Machines:1>, milking machine, milk machine, tubes, suctioning, suction device, cage, harness, hoses, breast pump, milk',\\\n",
    "'<lora:onarmor_pony_xl:1>, onarmor, girl in front, bound to [large] [placeholder], fanny packing, meat shield, cock sleeve',\\\n",
    "'<lora:Pet_Play_Bondage_v3-000006:1>, pet play bondage, bondage, all fours',\\\n",
    "'<lora:Pony gynchair-v2.0:1>, vaginal object insertion,gynchair',\\\n",
    "# '<lora:pony sexual energy ship v1.0:1>, sexual energy ship, heavy restraints, wires, electricity',\\\n",
    "'<lora:PONYXL_CONCEPT_PovDating_ownwaifu:1>, concept_povdating_ownwaifu, pov across table, pov dating, looking at viewer, indoors, upper body, fruit, plate, table, solo focus',\\\n",
    "'<lora:PunchingBagPonyV1-000030:1>, punching_bag, restrained, tears, blood, large_breasts, injury',\\\n",
    "'<lora:Skirt_lift-_Assisted_Exposure_Pony:1>, Skirt lift,assisted Exposure',\\\n",
    "'<lora:snake_bondage:1>, snake_bondage,coiled,solo',\\\n",
    "'<lora:Symbiote_Venoms_Assimilation_Ver2:1>, venom_assimilation','black slime',\\\n",
    "# '<lora:ugly:1>, ugly monster, fat bastard, ugly man, ',\\\n",
    "'<lora:tentacletrap_concept_ponyxl_ilff:1>, stuck in floor, tentacle trap, vaginal penetration, huge breasts, nipple penetration, sex']"
   ]
  },
  {
   "cell_type": "code",
   "execution_count": 10,
   "metadata": {},
   "outputs": [],
   "source": [
    "emotions_list = ['<lora:bigeyes-ponyxl-v1:1>, b1g3y3s, wide eyes,afraid',\\\n",
    "    '<lora:Expressive_H-000001:1>, Expressiveh, afraid, scared',\\\n",
    "    '<lora:Pain_Fear_and_Desperation_Pony:1>, pain, desperation, fear, tears, crying, clenched teeth',\\\n",
    "    '<lora:Pain_Fear_and_Desperation_Pony:1>, pain, desperation, fear, tears, crying, screaming',\\\n",
    "    '<lora:Pain_Fear_and_Desperation_Pony:1>, pain, desperation, fear, tears, crying, moaning',\\\n",
    "    '<lora:Pain_Fear_and_Desperation_Pony:1>, pain, desperation, fear, tears, crying, surprised',\\\n",
    "    '<lora:ponyxl_concept-bruised_face:1>, bruise on face, bruised eye , nosebleed',\\\n",
    "    '<lora:scaredv4-000009:.8>, scared expression',\\\n",
    "    '<lora:PoutyPonyXL_v1:.4>, m1s3ry, misery, unhappy, pouty face,',\\\n",
    "    'afraid,scared,tears,crying,pleading,naked,iron collar',\\\n",
    "    ]"
   ]
  },
  {
   "cell_type": "code",
   "execution_count": 11,
   "metadata": {},
   "outputs": [],
   "source": [
    "eyes_list = [' ','(eyes closed)', 'eyes pleading', 'looking at viewer', 'eye contact', 'looking back', 'looking down', 'looking up', 'looking away']\n",
    "skin_list = [' ',' ','<lora:black_woman-000002:1>, black woman, dark skin','white','asian','latina','indian','irish','native american','french','swedish']\n",
    "hair_list = [' ','long hair','short hair','curly hair','straight hair','red hair','blonde hair','brunette hair','black hair','white hair','gray hair','blue hair','green hair','pink hair','purple hair','orange hair','brown hair','rainbow hair','dyed hair','hair bun','hair ponytail','hair braid','hair pigtails','hair bangs','hair fringe']\n",
    "shot_list = [' ','wide shot','close up', 'medium shot','full body shot','head shot','profile shot','back shot','front shot','side shot','over the shoulder shot','low angle shot','high angle shot','dutch angle']\n",
    "light_list = [' ','studio lighting', 'night lighting', 'day lighting', 'candle lighting', 'fire lighting', 'moon lighting', 'sun lighting', 'lamp lighting', 'neon lighting', 'street lighting', 'club lighting', 'disco lighting', 'spotlight lighting', 'backlighting', 'soft lighting', 'hard lighting', 'rim lighting', 'fill lighting', 'key lighting', 'ambient lighting', 'natural lighting', 'artificial lighting', 'overhead lighting', 'underlighting', 'top lighting', 'bottom lighting', 'side lighting', 'front lighting', 'back lighting', 'three point lighting', 'four point lighting', 'five point lighting', 'six point lighting', 'seven point lighting', 'eight point lighting', 'nine point lighting', 'ten point lighting', 'eleven point lighting', 'twelve point lighting', 'thirteen point lighting', 'fourteen point lighting', 'fifteen point lighting', 'sixteen point lighting', 'seventeen point lighting', 'eighteen point lighting', 'nineteen point lighting', 'twenty point lighting']"
   ]
  },
  {
   "cell_type": "code",
   "execution_count": 12,
   "metadata": {},
   "outputs": [],
   "source": [
    "# overwrites for specifics\n",
    "hair_list = [' ','long hair','brunette hair','black hair','hair bun','hair ponytail','hair braid','hair pigtails','hair bangs','hair updo']\n",
    "skin_list = [' ','tan']"
   ]
  },
  {
   "cell_type": "markdown",
   "metadata": {},
   "source": [
    "# Characters"
   ]
  },
  {
   "cell_type": "code",
   "execution_count": 13,
   "metadata": {},
   "outputs": [],
   "source": [
    "\n",
    "character_list = [\"elsa\",\"jessica rabbit, red dress\",\"Tifa Lockheart\" ,\"princess jasmine\" ,\"princess anna\" ,\"princess rapunzel\",\"princess ariel\" ,\"vampirella\",\"catwoman\",\"Psylocke (X-Men)\" ,\\\n",
    "                    \"black cat\" ,\"death of the endless (The Sandman)\",\"barbara gordon (Batman)\",\"black canary (DC Comics)\",\"emma frost (X-Men)\",\"jean grey (X-Men)\", \\\n",
    "                    \"mera (Aquaman)\",\"lady death\",\"starfire (Teen Titans)\",\"red sonja\",\"poison ivy (Batman), green tentacles\",\"She-Hulk (Marvel Comics)\", \\\n",
    "                    \"Ms. Marvel (Kamala Khan) (Marvel Comics)\",\"Rogue (X-Men)\",\"Raven (Teen Titans)\",\"Zatanna (DC Comics)\",\"Batgirl (Barbara Gordon) (Batman)\", \\\n",
    "                    \"Kim Possible\",\"Princess Bubblegum \",\"Korra \",\"Marceline the Vampire Queen \",\"Elastigirl Helen Parr \",\"Lola Bunny\",\"Daphne Blake\", \\\n",
    "                    \"Black Widow\",\"Princess Leia\",\"Lara Croft\",\"Scarlet Witch\",\"Katara\",\"Tinker Bell, huge breasts\",\"Padme Amidala\",\"April ONeill\",\"Hermione Granger, large breasts\",\\\n",
    "                    '<lora:anhahaway_ponyxl_autism_xl_1_standard_merger_15_43_96_02_03_05-anxhathaway:1>, anxhathaway',\\\n",
    "                    '<lora:Anna_Kendrick_v5_pxl:1>, 1girl',\\\n",
    "                    '<lora:CrunchyBanana_PONY_dora_kaley_cuoco:.8>, ohwx, blonde hair',\\\n",
    "                    '<lora:Harley_Quinn_2019_Pony:1>, Harley Quinn',\\\n",
    "                    '<lora:Isabella_Roberts_-_Being_a_DIK:1>, bella',\\\n",
    "                    '<lora:Jasmine_Aladdin_PONY_edit_by_Foxie:1>, Jasmine, Disney anime, original style',\\\n",
    "                    '<lora:jenortega_ponyxl_autism_standard_xl_1_jenxortega-000097:1>, jenxortega, burnette ',\\\n",
    "                    '<lora:MargotRobbie_PXL:1>, Margot',\\\n",
    "                    '<lora:meikoXL:1>, meiko',\\\n",
    "                    '<lora:Remy Lacroix PonyXL:1>, remylacroix, hazel eyes',\\\n",
    "                    '<lora:scjohansson_ponyxl_autism_xl_1_standard_merger_51_23_07_03_scxjohansson:1>, scxjohansson',\\\n",
    "                    '<lora:str1pp3r3ll4-000012:1>, 1girl, xstr1pp3r3ll4x, blonde hair, long hair, makeup, lipstick, blue eyes, ponytail, large breasts',\\\n",
    "                    '<lora:taySwiftPony-000014:1>, taySwift',\n",
    "                    '<lora:kimKardashianPonyRealism:1>, KimK',\n",
    "                    '<lora:Ava_Addams-000013:1>, avaaddams',\n",
    "                    '<lora:Penny_Pax_V2-000015:1>, pennypax',\n",
    "                    'Holli Would'\n",
    "\n",
    "\n",
    "                        ]\n",
    "# character_list = ['tiffa lockheart, esla, jessica rabbit, princess jasmine']\n",
    "\n",
    "# print(character_list)\n",
    "\n",
    "# character_list = [\"elsa\",\"jessica rabbit\"]\n"
   ]
  },
  {
   "cell_type": "code",
   "execution_count": 14,
   "metadata": {},
   "outputs": [],
   "source": [
    "# comma_delimited_string2 = \"huge breasts, gigantic breasts, large breasts, voluptuous, huge ass, gigantic breasts, gigantic breasts, gigantic breasts, gigantic breasts, gigantic breasts\"\n",
    "\n",
    "# body_types = comma_delimited_string2.split(\",\")  # Split the string at commas\n",
    "\n",
    "body_types = [' ','large breasts, bikini, beach','huge breasts, torn dress, sunset','voluptuous, wedding dress, shocked, pussy','striped prison uniform, prison' \\\n",
    "               'straight jacket, asylum,creepy, helpless','hyper nipples, screaming,tears, crying','hard bondage, industrial restraints,permanent bondage',\n",
    "               'in water, pool of water','long legs, bite marks, blood','mini skirt, bra, lacey, sexy','pregnant, lactation, milk, lots of milk',\n",
    "               'alone in the dark, creepy, hunted','hair between eyes','(bouncing breasts), torn bra','breath play, choke, asphyxia']\n",
    "\n",
    "body_types = ['']\n",
    "\n",
    "# Strip any extra whitespace from the beginning and end of each character\n",
    "body_types = [char.strip() for char in body_types]"
   ]
  },
  {
   "cell_type": "code",
   "execution_count": 15,
   "metadata": {},
   "outputs": [],
   "source": [
    "\n",
    "body_types2 = [' ','raped by batman','raped by superman', \\\n",
    "    'in a crowd','public forum','raped by hulk','multiple girls'\\\n",
    "        ,'next to catwoman','riding horse','tentacle rape, monsters, aggressive tentacles','nurse fantasy, medical fetish, latex nurse',\\\n",
    "            'sexy secretary, office','teacher, classroom, blackboard','maid, cleaning, apron','nun, church, cross','cheerleader, football game',\\\n",
    "                'schoolgirl, school, blackboard','nurse, hospital, medical fetish','police officer, handcuffs, uniform','soldier, army, camouflage',\\\n",
    "                    'pirate, ship, treasure','cowgirl, farm, barn','firefighter, fire, hose','construction worker, hard hat, tools','mechanic, garage, tools',\\\n",
    "                        'alien, spaceship, tentacles','robot, futuristic, metal','zombie, graveyard, blood','vampire, castle','werewolf, full moon, fur']\n",
    "\n",
    "body_types2 = ['']\n",
    "# Strip any extra whitespace from the beginning and end of each character\n",
    "body_types2 = [char.strip() for char in body_types2]"
   ]
  },
  {
   "cell_type": "markdown",
   "metadata": {},
   "source": [
    "# Situations"
   ]
  },
  {
   "cell_type": "code",
   "execution_count": 16,
   "metadata": {},
   "outputs": [],
   "source": [
    "situation = [' ','torture,rape, machines, ((sex machine)),pain','attacked by monster, huge penis, pain vaginal sex, violent sex',\\\n",
    "    '((attacked by men)) (gangbang), grope, grab, hyper penis, peril, blood','faceless,faceless male',\\\n",
    "    'taken appart','covered in slime','((eaten alive)), vore','close up, agony','magic powers, mind control, ((mind break))','panty hose, ripped, desperation, teeth clenched',]"
   ]
  },
  {
   "cell_type": "markdown",
   "metadata": {},
   "source": [
    "# Roles"
   ]
  },
  {
   "cell_type": "code",
   "execution_count": 17,
   "metadata": {},
   "outputs": [],
   "source": [
    "roles = [' ','victim','hero','villain','monster','robot','alien','demon','angel','elf','fairy','mermaid','witch','pirate','princess','queen','king','knight','wizard','sorcerer','sorceress','warrior']"
   ]
  },
  {
   "cell_type": "markdown",
   "metadata": {},
   "source": [
    "# Objects"
   ]
  },
  {
   "cell_type": "code",
   "execution_count": 18,
   "metadata": {},
   "outputs": [],
   "source": [
    "objects = [' ','slime','dildo','(neck rope) leash','handcuffs','ball gag','whip','chains','leash','collar',\n",
    "'spiked dildo','razor wire','bondage harness','injured, blood,scratches on body, scratches, beaten',\n",
    "'ghost','cuffs','shackles','stocks','pillory','spanking bench','sawhorse','hyper dildo', 'red-framed eyewear,semi-rimless eyewear,under-rim eyewear']"
   ]
  },
  {
   "cell_type": "markdown",
   "metadata": {},
   "source": [
    "# Randoms"
   ]
  },
  {
   "cell_type": "code",
   "execution_count": 19,
   "metadata": {},
   "outputs": [],
   "source": [
    "# Randomly select 4 characters\n",
    "import os\n",
    "import json\n",
    "import random\n",
    "num_to_pick = 500\n",
    "random_characters = random.choices(character_list, k=num_to_pick)\n",
    "random_loras = random.choices(activation_texts_situations, k=num_to_pick)\n",
    "random_body_types = random.choices(body_types, k=num_to_pick)\n",
    "random_body_types2 = random.choices(body_types2, k=num_to_pick)\n",
    "random_situation = random.choices(situation,k=num_to_pick)\n",
    "random_object = random.choices(objects,k=num_to_pick)\n",
    "random_roles = random.choices(roles,k=num_to_pick)\n",
    "random_loras2 = random.choices(activation_texts_wearables, k=num_to_pick)\n",
    "random_laras3 = random.choices(activation_texts_style, k=num_to_pick)\n",
    "random_hair = random.choices(hair_list, k=num_to_pick)\n",
    "random_skin = random.choices(skin_list, k=num_to_pick)\n",
    "random_eyes = random.choices(eyes_list, k=num_to_pick)\n",
    "random_shot = random.choices(shot_list, k=num_to_pick)\n",
    "random_light = random.choices(light_list, k=num_to_pick)\n",
    "random_emotions = random.choices(emotions_list, k=num_to_pick)\n"
   ]
  },
  {
   "cell_type": "code",
   "execution_count": 20,
   "metadata": {},
   "outputs": [],
   "source": [
    "promts01 = [f\"{x}, {y}, {z}, {xx},{yy},{zz},{xxx},{yyy},{zzz},{A},{B},{C},{D},{E},{F}\" for x, y, z,xx,yy,zz,xxx,yyy,zzz,A,B,C,D,E,F in zip(random_characters,random_situation, random_body_types, \\\n",
    "    random_body_types2,random_object, random_loras,random_roles,random_loras2,random_laras3,random_hair,random_skin,random_eyes,random_shot,random_light,random_emotions)]\n",
    "# print(promts01) "
   ]
  },
  {
   "cell_type": "markdown",
   "metadata": {},
   "source": [
    "# Final Tunes"
   ]
  },
  {
   "cell_type": "code",
   "execution_count": 21,
   "metadata": {},
   "outputs": [],
   "source": [
    "new_promt01 = []\n",
    "for item in promts01:\n",
    "    new_item = item.replace(\"<lora:Jasmine_Aladdin_PONY_edit_by_Foxie:1>\", \"<lora:Jasmine_Aladdin_PONY_edit_by_Foxie:.1>\")\n",
    "    new_item = new_item.replace(\"bound to [large] [placeholder]\", \"bound to large monster\")\n",
    "    new_item = new_item.replace(\"hanging_data\", \"hanging_data, ((neck rope))\")\n",
    "    new_item = new_item.replace(\"<lora:Pain_Fear_and_Desperation_Pony:1>\", \"<lora:Pain_Fear_and_Desperation_Pony:.5>\")\n",
    "    new_item = new_item.replace(\"<lora:HeadscissorsSDXL:1>, headscissorssdxl\", \"side view, wide angle\")\n",
    "    new_item = new_item.replace(\"Turquoise outfit, Bride outfit, Brown outfit , Red outfit, Aladdin, (purple vest, red hat/white outfit, turban hat), Abou, monkey, Iago, parrot, Tiger, Genie, coming out of a magic lamp, Flying on a magic carpet, Persian streets\",\"Genie\")\n",
    "\n",
    "    \n",
    "    new_promt01.append(new_item)"
   ]
  },
  {
   "cell_type": "code",
   "execution_count": 22,
   "metadata": {},
   "outputs": [],
   "source": [
    "standard = \"score_9,score_8_up,score_7_up,score_6_up,score_5_up,score_4_up,masterpiece, hyperrealism,rating_explicit,\\\n",
    "    afraid, ((rape)) scene, against her will, forced, non-consensual, bondage, bdsm, humiliation, \\\n",
    "    degradation, pain, suffering, torture, horror, gore, blood\"\n",
    "\n",
    "standard = \"score_9,score_8_up,score_7_up,score_6_up,score_5_up,score_4_up,masterpiece, hyperrealism,rating_explicit,afraid,large breasts, sex, \\\n",
    "     <lora:Pain_Fear_and_Desperation_Pony:.5>, pain, desperation, fear, tears, crying, clenched teeth\"\n",
    "\n",
    "standard = \"score_9,score_8_up,score_7_up,score_6_up,score_5_up,score_4_up,masterpiece, highly detailed, hyperrealism,source_cartoon, rating_explicit,afraid,large breasts, sex\" \n",
    "\n",
    "standard = \"score_9,score_8_up,score_7_up,  masterpiece, source_cartoon, highly detailed, rating_explicit,hetero, sex, perfect body, perfect face, huge breasts,((high quality art)) \""
   ]
  },
  {
   "cell_type": "code",
   "execution_count": 23,
   "metadata": {},
   "outputs": [],
   "source": [
    "# Prepend and append to each text\n",
    "formatted_texts = []\n",
    "for text in new_promt01:\n",
    "    # formatted_text = f\"--prompt {standard}, {text} --width 1024 --height 1024 --steps 27 --cfg_scale 7.0 --sampler_name DPM++ 2M Karras --batch_size 1\"\n",
    "    # formatted_texts.append(formatted_text)\n",
    "    formatted_text = f\"--prompt {standard}, {text} \"\n",
    "    formatted_texts.append(formatted_text)\n",
    "    # formatted_text = f\"--prompt {standard},EZRealPONYXL, {text} \"\n",
    "    # formatted_texts.append(formatted_text)"
   ]
  },
  {
   "cell_type": "code",
   "execution_count": 24,
   "metadata": {},
   "outputs": [],
   "source": [
    "# ... (after collecting activation_texts in the list) ...\n",
    "\n",
    "output_file = \"output\\prompts.txt\"\n",
    "with open(output_file, \"w\") as file:\n",
    "    for text in formatted_texts:\n",
    "        file.write(text + \"\\n\")  # Add newline after each text\n"
   ]
  },
  {
   "cell_type": "code",
   "execution_count": null,
   "metadata": {},
   "outputs": [],
   "source": []
  }
 ],
 "metadata": {
  "kernelspec": {
   "display_name": "venv",
   "language": "python",
   "name": "python3"
  },
  "language_info": {
   "codemirror_mode": {
    "name": "ipython",
    "version": 3
   },
   "file_extension": ".py",
   "mimetype": "text/x-python",
   "name": "python",
   "nbconvert_exporter": "python",
   "pygments_lexer": "ipython3",
   "version": "3.10.6"
  }
 },
 "nbformat": 4,
 "nbformat_minor": 2
}
