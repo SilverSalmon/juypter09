{
 "cells": [
  {
   "cell_type": "markdown",
   "metadata": {},
   "source": [
    "# LORAS"
   ]
  },
  {
   "cell_type": "code",
   "execution_count": 2,
   "metadata": {},
   "outputs": [
    {
     "name": "stdout",
     "output_type": "stream",
     "text": [
      "Tensor files missing JSON counterparts: []\n"
     ]
    }
   ],
   "source": [
    "# Read in the LORA Files\n",
    "\n",
    "import os\n",
    "import json\n",
    "\n",
    "directory = \"C:/pydev/comfyKrita/ComfyUI/models/loras/ponyLora\"  # Forward slashes or raw string \n",
    "\n",
    "json_files = [file for file in os.listdir(directory) if file.endswith(\".json\")]\n",
    "# print(json_files)\n",
    "tensor_files = [file for file in os.listdir(directory) if file.endswith(\".safetensors\")]\n",
    "# print(tensor_files)\n",
    "\n",
    "# Extract base filenames without extensions\n",
    "json_bases = [os.path.splitext(file)[0] for file in json_files]\n",
    "tensor_bases = [os.path.splitext(file)[0] for file in tensor_files]\n",
    "\n",
    "# Find tensor files without corresponding JSON files\n",
    "missing_json = [tensor_file for tensor_base, tensor_file in zip(tensor_bases, tensor_files) if tensor_base not in json_bases]\n",
    "\n",
    "print(\"Tensor files missing JSON counterparts:\", missing_json)\n",
    "\n"
   ]
  },
  {
   "cell_type": "markdown",
   "metadata": {},
   "source": [
    "# Create JSON"
   ]
  },
  {
   "cell_type": "code",
   "execution_count": 3,
   "metadata": {},
   "outputs": [],
   "source": [
    "import json\n",
    "\n",
    "# Iterate through missing_json and create JSON files\n",
    "for item in missing_json:\n",
    "    data = {\n",
    "        \"description\": \"\",\n",
    "        \"sd version\": \"PONY SDXL\",\n",
    "        \"activation text\": \" \",\n",
    "        \"preferred weight\": 0,\n",
    "        \"negative text\": \"\",\n",
    "        \"notes\": \"\"\n",
    "    }\n",
    "\n",
    "    json_filename = item.replace(\".safetensors\", \".json\")\n",
    "    filepath = os.path.join(directory, json_filename)\n",
    "\n",
    "    with open(filepath, 'w') as f:\n",
    "        json.dump(data, f, indent=4) "
   ]
  },
  {
   "cell_type": "code",
   "execution_count": 7,
   "metadata": {},
   "outputs": [],
   "source": [
    "import os\n",
    "import json\n",
    "\n",
    "directory = \"C:/pydev/comfyKrita/ComfyUI/models/loras/ponyLora\"\n",
    "json_files = [file for file in os.listdir(directory) if file.endswith(\".json\")]\n",
    "\n",
    "activation_texts = []  # Create an empty list to store the text\n",
    "embedding_texts = []  # Create an empty list to store the text\n",
    "\n",
    "for file in json_files:\n",
    "    file_path = os.path.join(directory, file)\n",
    "\n",
    "    try:\n",
    "        with open(file_path, \"r\") as json_file:\n",
    "            data = json.load(json_file)\n",
    "            if \"preferred weight\" in data:\n",
    "                preferred_weight = data[\"preferred weight\"]\n",
    "                if preferred_weight == 0:\n",
    "                    preferred_weight = 1\n",
    "            else:\n",
    "                preferred_weight = 1\n",
    "            # Extract and print the activation text\n",
    "            # Check for \"notes\" and append to embedding_texts if it starts with 'embedding'\n",
    "            # if \"notes\" in data and data[\"notes\"].startswith('embedding'):\n",
    "            #     embedding_texts.append(data[\"notes\"])\n",
    "\n",
    "            if \"activation text\" in data:\n",
    "                activation_text = data[\"activation text\"]\n",
    "                if activation_text.startswith('embedding'):\n",
    "                    activation_texts.append(activation_text)\n",
    "\n",
    "                else:\n",
    "                    file_name_without_ext = os.path.splitext(file)[0]  \n",
    "                    activation_texts.append(f\"<lora:{file_name_without_ext}:{preferred_weight}>, {activation_text}\")\n",
    "                # print(f\"<lora:{file}:1>, {activation_text}\")\n",
    "                # activation_texts.append(f\"<lora:{file}:1>, {activation_text}\")\n",
    "\n",
    "            else:\n",
    "                print(f\"Warning: 'activation text' not found in {file}\")\n",
    "\n",
    "    except json.JSONDecodeError:\n",
    "        print(f\"Warning: {file_path} is not valid JSON.\")\n"
   ]
  },
  {
   "cell_type": "code",
   "execution_count": 10,
   "metadata": {},
   "outputs": [],
   "source": [
    "output_file = \"output\\Scanned Pony laras.txt\"\n",
    "with open(output_file, \"w\") as file:\n",
    "    for text in activation_texts:\n",
    "        file.write(text + \"\\n\")  # Add newline after each text\n",
    "        "
   ]
  },
  {
   "cell_type": "code",
   "execution_count": 6,
   "metadata": {},
   "outputs": [],
   "source": [
    "# print(embedding_texts)"
   ]
  },
  {
   "cell_type": "code",
   "execution_count": 13,
   "metadata": {},
   "outputs": [],
   "source": [
    "import os\n",
    "import json\n",
    "\n",
    "directory = \"C:/pydev/comfyKrita/ComfyUI/models/loras/test\"\n",
    "json_files = [file for file in os.listdir(directory) if file.endswith(\".json\")]\n",
    "\n",
    "activation_texts = [] \n",
    "embedding_texts = []\n",
    "\n",
    "for file in json_files:\n",
    "    file_path = os.path.join(directory, file)\n",
    "\n",
    "    try:\n",
    "        with open(file_path, \"r\") as json_file:\n",
    "            data = json.load(json_file)\n",
    "            if \"preferred weight\" in data:\n",
    "                preferred_weight = data[\"preferred weight\"]\n",
    "                if preferred_weight == 0:\n",
    "                    preferred_weight = 1\n",
    "                else:\n",
    "                    preferred_weight = 1\n",
    "            else:\n",
    "                preferred_weight = 1\n",
    "\n",
    "            if \"activation text\" in data:\n",
    "                activation_text = data[\"activation text\"]\n",
    "                if activation_text.startswith('embedding'):\n",
    "                    activation_texts.append(activation_text)\n",
    "                else:\n",
    "                    file_name_without_ext = os.path.splitext(file)[0] \n",
    "                    \n",
    "                    # Check for \"category\" and prepend it if available\n",
    "                    if \"category\" in data:\n",
    "                        category = data[\"category\"]\n",
    "                        activation_texts.append(f\"{category}, <lora:{file_name_without_ext}:{preferred_weight}>, {activation_text}\")\n",
    "                    else:\n",
    "                        activation_texts.append(f\"<lora:{file_name_without_ext}:{preferred_weight}>, {activation_text}\")\n",
    "\n",
    "            else:\n",
    "                print(f\"Warning: 'activation text' not found in {file}\")\n",
    "\n",
    "    except json.JSONDecodeError:\n",
    "        print(f\"Warning: {file_path} is not valid JSON.\")\n",
    "\n",
    "# Sort the activation_texts list alphabetically\n",
    "activation_texts.sort()\n",
    "\n",
    "output_file = \"output\\Scanned Pony laras.txt\"\n",
    "with open(output_file, \"w\") as file:\n",
    "    for text in activation_texts:\n",
    "        file.write(text + \"\\n\")  # Add newline after each text\n",
    "        "
   ]
  }
 ],
 "metadata": {
  "kernelspec": {
   "display_name": "venv",
   "language": "python",
   "name": "python3"
  },
  "language_info": {
   "codemirror_mode": {
    "name": "ipython",
    "version": 3
   },
   "file_extension": ".py",
   "mimetype": "text/x-python",
   "name": "python",
   "nbconvert_exporter": "python",
   "pygments_lexer": "ipython3",
   "version": "3.10.6"
  }
 },
 "nbformat": 4,
 "nbformat_minor": 2
}
